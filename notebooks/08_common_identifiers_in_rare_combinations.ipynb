{
 "cells": [
  {
   "cell_type": "markdown",
   "id": "ef2742aa",
   "metadata": {},
   "source": [
    "# 08 - Common identifiers in rare combinations\n",
    "\n",
    "How do privacy risk scores react when identifiers are common individually but uncommon together?"
   ]
  },
  {
   "cell_type": "code",
   "execution_count": null,
   "id": "c0d258c8",
   "metadata": {},
   "outputs": [],
   "source": [
    "import matplotlib.pyplot as plt\n",
    "import pandas as pd\n",
    "import seaborn as sns"
   ]
  },
  {
   "cell_type": "code",
   "execution_count": null,
   "id": "7e293e2a",
   "metadata": {},
   "outputs": [],
   "source": [
    "from privacy_fingerprint.common.config import (\n",
    "    load_experiment_config_from_file,\n",
    "    load_global_config_from_file,\n",
    ")\n",
    "\n",
    "# Example config files are available in the config directory.\n",
    "# They will need to be modified with the path to the Julia executable\n",
    "\n",
    "load_global_config_from_file(\"../configs/global_config.yaml\")\n",
    "load_experiment_config_from_file(\"../configs/experiment_config.yaml\")"
   ]
  },
  {
   "cell_type": "code",
   "execution_count": null,
   "id": "893b018a",
   "metadata": {},
   "outputs": [],
   "source": [
    "from privacy_fingerprint.score import PrivacyRiskScorer, encode"
   ]
  },
  {
   "cell_type": "markdown",
   "id": "bd9c146e",
   "metadata": {},
   "source": [
    "We will create a dummy dataset with only two identifiers each with two values. This simulates a worse case scenario for common identifiers in rare combinations."
   ]
  },
  {
   "cell_type": "code",
   "execution_count": null,
   "id": "2f446ed3",
   "metadata": {},
   "outputs": [],
   "source": [
    "pcm_dataset = pd.concat(\n",
    "    [\n",
    "        pd.DataFrame(\n",
    "            [\n",
    "                {\"disease\": \"headache\", \"treatment\": \"aspirin\"}\n",
    "                for _ in range(13)\n",
    "            ]\n",
    "        ),\n",
    "        pd.DataFrame(\n",
    "            [\n",
    "                {\"disease\": \"laceration\", \"treatment\": \"stitches\"}\n",
    "                for _ in range(5)\n",
    "            ]\n",
    "        ),\n",
    "    ],\n",
    "    ignore_index=True,\n",
    ")\n",
    "pcm_dataset.loc[0, \"disease\"] = \"laceration\"\n",
    "pcm_dataset.loc[1, \"treatment\"] = \"stitches\"\n",
    "\n",
    "display(pcm_dataset.groupby([\"disease\", \"treatment\"]).size())"
   ]
  },
  {
   "cell_type": "code",
   "execution_count": null,
   "id": "0289a669",
   "metadata": {},
   "outputs": [],
   "source": [
    "encoded_dataset, lookup = encode(pcm_dataset)\n",
    "scorer = PrivacyRiskScorer()\n",
    "population_score = scorer.calculate_population_uniqueness(encoded_dataset)\n",
    "scorer.fit(encoded_dataset)\n",
    "individual_scores = scorer.predict(encoded_dataset)\n",
    "transformed_dataset = scorer.map_records_to_copula(encoded_dataset)\n",
    "\n",
    "print(population_score)\n",
    "print((individual_scores > 1e-7).sum())\n",
    "num_records = pcm_dataset.merge(\n",
    "    right=pcm_dataset.groupby(\n",
    "        pcm_dataset.columns.tolist(), as_index=False\n",
    "    ).size(),\n",
    "    on=pcm_dataset.columns.tolist(),\n",
    "    how=\"left\",\n",
    ")"
   ]
  },
  {
   "cell_type": "code",
   "execution_count": null,
   "id": "b5e32ba7",
   "metadata": {},
   "outputs": [],
   "source": [
    "sns.set_style(\"white\")\n",
    "fig, ax = plt.subplots(1, 1)\n",
    "ax2 = ax.twinx()\n",
    "individual_scores.plot(ax=ax, color=\"#c10078\")\n",
    "ax.set_ylabel(\"Privacy risk score\", color=\"#c10078\")\n",
    "num_records[\"size\"].plot(ax=ax2, color=\"#4d58e5\")\n",
    "ax2.set_ylabel(\"Number of similar records\", color=\"#4d58e5\")\n",
    "ax.set_xlabel(\"Record\")\n",
    "ax.set_xticks(range(18))\n",
    "plt.show()"
   ]
  },
  {
   "cell_type": "markdown",
   "id": "6502b19c",
   "metadata": {},
   "source": [
    "Here we see that records that appear in the dataset multiple times have very low privacy risk scores (records 3-12). Records that appear slightly less frequently but still multiple times have a higher but still low privacy risk score (records 12-17).\n",
    "\n",
    "However, the records with a rare combination of common identifiers (records 1-2) also have a low score. The rarity of the combination is not reflected in a increased privacy risk score."
   ]
  },
  {
   "cell_type": "code",
   "execution_count": null,
   "id": "3e00c78e-3078-4563-b822-ef514ca0ac53",
   "metadata": {},
   "outputs": [],
   "source": []
  }
 ],
 "metadata": {
  "kernelspec": {
   "display_name": "Python 3 (ipykernel)",
   "language": "python",
   "name": "python3"
  },
  "language_info": {
   "codemirror_mode": {
    "name": "ipython",
    "version": 3
   },
   "file_extension": ".py",
   "mimetype": "text/x-python",
   "name": "python",
   "nbconvert_exporter": "python",
   "pygments_lexer": "ipython3",
   "version": "3.9.16"
  }
 },
 "nbformat": 4,
 "nbformat_minor": 5
}
