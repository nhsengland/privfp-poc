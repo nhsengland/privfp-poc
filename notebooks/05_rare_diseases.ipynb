{
 "cells": [
  {
   "cell_type": "markdown",
   "id": "ef2742aa",
   "metadata": {},
   "source": [
    "# 05 - Exploring the impact of rare diseases on privacy risk\n",
    "\n",
    "In this notebook we:\n",
    "\n",
    "* Identify the occurrence of unique diseases\n",
    "* Assess the impact of these diseases on the inidividual privacy risk\n",
    "* Extend the analysis to other unique identifiers"
   ]
  },
  {
   "cell_type": "code",
   "execution_count": null,
   "id": "c0d258c8",
   "metadata": {},
   "outputs": [],
   "source": [
    "import json\n",
    "import os\n",
    "from collections import defaultdict\n",
    "\n",
    "import matplotlib.pyplot as plt\n",
    "import numpy as np\n",
    "import pandas as pd\n",
    "import seaborn as sns"
   ]
  },
  {
   "cell_type": "code",
   "execution_count": null,
   "id": "4ac0aedf",
   "metadata": {},
   "outputs": [],
   "source": [
    "from privacy_fingerprint.common.config import (\n",
    "    load_experiment_config,\n",
    "    load_experiment_config_from_file,\n",
    "    load_global_config_from_file,\n",
    ")\n",
    "\n",
    "# Example config files are available in the config directory.\n",
    "# They will need to be modified with the path to the Julia executable\n",
    "\n",
    "load_global_config_from_file(\"../configs/global_config.yaml\")\n",
    "load_experiment_config_from_file(\"../configs/experiment_config.yaml\")\n",
    "\n",
    "experiment_config = load_experiment_config()\n",
    "experiment_config.scoring.encoding_scheme = \"rarest\""
   ]
  },
  {
   "cell_type": "code",
   "execution_count": null,
   "id": "7e293e2a",
   "metadata": {},
   "outputs": [],
   "source": [
    "import privacy_fingerprint.extract.aws_comprehend as aws\n",
    "from privacy_fingerprint.score import PrivacyRiskScorer, encode, preprocess"
   ]
  },
  {
   "cell_type": "code",
   "execution_count": null,
   "id": "d506cec1",
   "metadata": {},
   "outputs": [],
   "source": [
    "# The dataset will be loaded from the directory created in notebook 2.\n",
    "output_dir = \"../experiments/02_generate_dataset\"\n",
    "\n",
    "with open(os.path.join(output_dir, \"synthea_dataset.json\")) as fp:\n",
    "    synthea_records = json.load(fp)\n",
    "\n",
    "with open(os.path.join(output_dir, \"llm_dataset.json\")) as fp:\n",
    "    llm_results = json.load(fp)\n",
    "\n",
    "with open(os.path.join(output_dir, \"ner_dataset.json\")) as fp:\n",
    "    ner_records = json.load(fp)"
   ]
  },
  {
   "cell_type": "code",
   "execution_count": null,
   "id": "e45bf28f",
   "metadata": {},
   "outputs": [],
   "source": [
    "# The format of the NER records must be standardised to enable scoring\n",
    "common_ner_results = aws.prepare_common_records(\n",
    "    aws.DEFAULT_IDENTIFIERS, ner_records\n",
    ")"
   ]
  },
  {
   "cell_type": "code",
   "execution_count": null,
   "id": "8b19c5c8",
   "metadata": {},
   "outputs": [],
   "source": [
    "pcm_dataset = preprocess(common_ner_results)"
   ]
  },
  {
   "cell_type": "code",
   "execution_count": null,
   "id": "64cbbfd3",
   "metadata": {},
   "outputs": [],
   "source": [
    "# Get the number of diseases that appear only once\n",
    "(pcm_dataset.groupby(\"disease\").size() == 1).sum()"
   ]
  },
  {
   "cell_type": "code",
   "execution_count": null,
   "id": "30e9e0c6",
   "metadata": {},
   "outputs": [],
   "source": [
    "def simplify_ethnicity(text):\n",
    "    text = text.lower()\n",
    "    if text == \"\":\n",
    "        return \"unknown\"\n",
    "    mentions = defaultdict(int)\n",
    "    for ethnicity, label in [\n",
    "        (\"white\", \"white\"),\n",
    "        (\"black\", \"black\"),\n",
    "        (\"african\", \"black\"),\n",
    "        (\"asian\", \"asian\"),\n",
    "        (\"indian\", \"asian\"),\n",
    "        (\"pakistani\", \"asian\"),\n",
    "        (\"chinese\", \"asian\"),\n",
    "    ]:\n",
    "        if ethnicity in text:\n",
    "            mentions[label] += 1\n",
    "    if len(mentions) > 1:\n",
    "        return \"mixed\"\n",
    "    elif len(mentions) == 1:\n",
    "        return list(mentions.keys())[0]\n",
    "    else:\n",
    "        return \"unknown\"\n",
    "\n",
    "\n",
    "def simplify_date_of_birth(date):\n",
    "    dt = pd.to_datetime(date, errors=\"coerce\")\n",
    "    if pd.isnull(dt):\n",
    "        return None\n",
    "    else:\n",
    "        return 10 * (dt.year // 10)"
   ]
  },
  {
   "cell_type": "code",
   "execution_count": null,
   "id": "087fb5ca",
   "metadata": {},
   "outputs": [],
   "source": [
    "transformations = {\n",
    "    \"gender\": lambda x: x.lower()\n",
    "    if x.lower() in [\"female\", \"male\"]\n",
    "    else \"unknown\",\n",
    "    \"ethnicity\": simplify_ethnicity,\n",
    "    \"date_of_birth\": simplify_date_of_birth,\n",
    "}\n",
    "\n",
    "cols = [\n",
    "    \"date_of_birth\",\n",
    "    \"gender\",\n",
    "    \"ethnicity\",\n",
    "    \"disease\",\n",
    "    \"symptoms\",\n",
    "    \"treatment\",\n",
    "    \"prescriptions\",\n",
    "]\n",
    "encoded_dataset, lookup = encode(\n",
    "    pcm_dataset[cols].transform(\n",
    "        {i: transformations.get(i, lambda x: x) for i in cols}\n",
    "    )\n",
    ")\n",
    "scorer = PrivacyRiskScorer()\n",
    "population_score = scorer.calculate_population_uniqueness(encoded_dataset)\n",
    "print(\"The overall population uniqueness is\", population_score)\n",
    "scorer.fit(encoded_dataset)\n",
    "individual_scores = scorer.predict(encoded_dataset)"
   ]
  },
  {
   "cell_type": "markdown",
   "id": "9d6d05ec",
   "metadata": {},
   "source": [
    "From the individual scores, the relationship with unique diseases can be assessed."
   ]
  },
  {
   "cell_type": "code",
   "execution_count": null,
   "id": "1d1f9417",
   "metadata": {},
   "outputs": [],
   "source": [
    "rare_disease_list = pcm_dataset.groupby(\"disease\").size() == 1\n",
    "rare_disease_list = rare_disease_list[rare_disease_list].index.tolist()\n",
    "print(\"Diseases mentioned only once\", len(rare_disease_list))\n",
    "\n",
    "print(\n",
    "    \"Average score for records mentioning a rare disease\",\n",
    "    individual_scores[pcm_dataset.disease.isin(rare_disease_list)].mean(),\n",
    ")\n",
    "print(\n",
    "    \"Average score for records with more common diseases\",\n",
    "    individual_scores[~pcm_dataset.disease.isin(rare_disease_list)].mean(),\n",
    ")\n",
    "fig, ax = plt.subplots(1, 1)\n",
    "individual_scores[pcm_dataset.disease.isin(rare_disease_list)].plot.kde(\n",
    "    ax=ax, ind=np.linspace(0, 1, 41), label=\"Rare\"\n",
    ")\n",
    "individual_scores[~pcm_dataset.disease.isin(rare_disease_list)].plot.kde(\n",
    "    ax=ax, ind=np.linspace(0, 1, 41), label=\"Common\"\n",
    ")\n",
    "ax.set_yscale(\"symlog\")\n",
    "ax.set_ylim(0, 1000)\n",
    "ax.legend()\n",
    "sns.despine()\n",
    "ax.set_title(\"Relationship between rare diseases and risk score\")\n",
    "plt.show()"
   ]
  },
  {
   "cell_type": "markdown",
   "id": "6ecb4b35",
   "metadata": {},
   "source": [
    "## Rare symptoms\n",
    "\n",
    "A similar analysis can be repeated for symptoms."
   ]
  },
  {
   "cell_type": "code",
   "execution_count": null,
   "id": "9d00c462",
   "metadata": {},
   "outputs": [],
   "source": [
    "rare_symptom_list = pcm_dataset.groupby(\"symptoms\").size() == 1\n",
    "rare_symptom_list = rare_symptom_list[rare_symptom_list].index.tolist()\n",
    "print(\"Symptoms mentioned only once\", len(rare_symptom_list))\n",
    "\n",
    "print(\n",
    "    \"Average score for records mentioning a rare symptom\",\n",
    "    individual_scores[pcm_dataset.symptoms.isin(rare_symptom_list)].mean(),\n",
    ")\n",
    "print(\n",
    "    \"Average score for records with more common symptoms\",\n",
    "    individual_scores[~pcm_dataset.symptoms.isin(rare_symptom_list)].mean(),\n",
    ")\n",
    "fig, ax = plt.subplots(1, 1)\n",
    "individual_scores[pcm_dataset.symptoms.isin(rare_symptom_list)].plot.kde(\n",
    "    ax=ax, ind=np.linspace(0, 1, 41), label=\"Rare\"\n",
    ")\n",
    "individual_scores[~pcm_dataset.symptoms.isin(rare_symptom_list)].plot.kde(\n",
    "    ax=ax, ind=np.linspace(0, 1, 41), label=\"Common\"\n",
    ")\n",
    "ax.set_yscale(\"symlog\")\n",
    "ax.set_ylim(0, 1000)\n",
    "ax.legend()\n",
    "sns.despine()\n",
    "plt.show()"
   ]
  },
  {
   "cell_type": "markdown",
   "id": "2962eb3e",
   "metadata": {},
   "source": [
    "## Rare treatments\n",
    "\n",
    "A similar analysis can be repeated for treatments."
   ]
  },
  {
   "cell_type": "code",
   "execution_count": null,
   "id": "7bddb47a",
   "metadata": {},
   "outputs": [],
   "source": [
    "rare_treatment_list = pcm_dataset.groupby(\"treatment\").size() == 1\n",
    "rare_treatment_list = rare_treatment_list[rare_treatment_list].index.tolist()\n",
    "print(\"Treatments mentioned only once\", len(rare_treatment_list))\n",
    "\n",
    "print(\n",
    "    \"Average score for records mentioning a rare treatment\",\n",
    "    individual_scores[pcm_dataset.treatment.isin(rare_treatment_list)].mean(),\n",
    ")\n",
    "print(\n",
    "    \"Average score for records with more common treatments\",\n",
    "    individual_scores[~pcm_dataset.treatment.isin(rare_treatment_list)].mean(),\n",
    ")\n",
    "fig, ax = plt.subplots(1, 1)\n",
    "individual_scores[pcm_dataset.treatment.isin(rare_treatment_list)].plot.kde(\n",
    "    ax=ax, ind=np.linspace(0, 1, 41), label=\"Rare\"\n",
    ")\n",
    "individual_scores[~pcm_dataset.treatment.isin(rare_treatment_list)].plot.kde(\n",
    "    ax=ax, ind=np.linspace(0, 1, 41), label=\"Common\"\n",
    ")\n",
    "ax.set_yscale(\"symlog\")\n",
    "ax.set_ylim(0, 1000)\n",
    "ax.legend()\n",
    "sns.despine()\n",
    "plt.show()"
   ]
  },
  {
   "cell_type": "markdown",
   "id": "053b2c7f",
   "metadata": {},
   "source": [
    "## Rare prescriptions\n",
    "\n",
    "A similar analysis can be repeated for prescriptions."
   ]
  },
  {
   "cell_type": "code",
   "execution_count": null,
   "id": "c98afb34",
   "metadata": {},
   "outputs": [],
   "source": [
    "rare_prescriptions_list = pcm_dataset.groupby(\"prescriptions\").size() == 1\n",
    "rare_prescriptions_list = rare_prescriptions_list[\n",
    "    rare_prescriptions_list\n",
    "].index.tolist()\n",
    "print(\"Prescriptions mentioned only once\", len(rare_prescriptions_list))\n",
    "\n",
    "print(\n",
    "    \"Average score for records mentioning a rare prescription\",\n",
    "    individual_scores[\n",
    "        pcm_dataset.prescriptions.isin(rare_prescriptions_list)\n",
    "    ].mean(),\n",
    ")\n",
    "print(\n",
    "    \"Average score for records with more common prescriptions\",\n",
    "    individual_scores[\n",
    "        ~pcm_dataset.prescriptions.isin(rare_prescriptions_list)\n",
    "    ].mean(),\n",
    ")\n",
    "fig, ax = plt.subplots(1, 1)\n",
    "individual_scores[\n",
    "    pcm_dataset.prescriptions.isin(rare_prescriptions_list)\n",
    "].plot.kde(ax=ax, ind=np.linspace(0, 1, 41), label=\"Rare\")\n",
    "individual_scores[\n",
    "    ~pcm_dataset.prescriptions.isin(rare_prescriptions_list)\n",
    "].plot.kde(ax=ax, ind=np.linspace(0, 1, 41), label=\"Common\")\n",
    "ax.set_yscale(\"symlog\")\n",
    "ax.set_ylim(0, 1000)\n",
    "ax.legend()\n",
    "sns.despine()\n",
    "plt.show()"
   ]
  },
  {
   "cell_type": "markdown",
   "id": "b16703a2",
   "metadata": {},
   "source": [
    "## Combinations\n",
    "\n",
    "Combinations can also be investigated."
   ]
  },
  {
   "cell_type": "code",
   "execution_count": null,
   "id": "2d00665f",
   "metadata": {},
   "outputs": [],
   "source": [
    "print(\"Prescriptions mentioned only once\", len(rare_prescriptions_list))\n",
    "\n",
    "print(\n",
    "    \"Average score for records mentioning a rare disease, symptom, treatment or prescription\",\n",
    "    individual_scores[\n",
    "        (\n",
    "            pcm_dataset.disease.isin(rare_disease_list)\n",
    "            | pcm_dataset.symptoms.isin(rare_symptom_list)\n",
    "            | pcm_dataset.treatment.isin(rare_treatment_list)\n",
    "            | pcm_dataset.prescriptions.isin(rare_prescriptions_list)\n",
    "        )\n",
    "    ].mean(),\n",
    ")\n",
    "print(\n",
    "    \"Average score for records with more common diseases, symptoms, treatments and prescriptions\",\n",
    "    individual_scores[\n",
    "        ~(\n",
    "            pcm_dataset.disease.isin(rare_disease_list)\n",
    "            | pcm_dataset.symptoms.isin(rare_symptom_list)\n",
    "            | pcm_dataset.treatment.isin(rare_treatment_list)\n",
    "            | pcm_dataset.prescriptions.isin(rare_prescriptions_list)\n",
    "        )\n",
    "    ].mean(),\n",
    ")\n",
    "fig, ax = plt.subplots(1, 1)\n",
    "individual_scores[\n",
    "    (\n",
    "        pcm_dataset.disease.isin(rare_disease_list)\n",
    "        | pcm_dataset.symptoms.isin(rare_symptom_list)\n",
    "        | pcm_dataset.treatment.isin(rare_treatment_list)\n",
    "        | pcm_dataset.prescriptions.isin(rare_prescriptions_list)\n",
    "    )\n",
    "].plot.kde(ax=ax, ind=np.linspace(0, 1, 41), label=\"Rare\")\n",
    "individual_scores[\n",
    "    ~(\n",
    "        pcm_dataset.disease.isin(rare_disease_list)\n",
    "        | pcm_dataset.symptoms.isin(rare_symptom_list)\n",
    "        | pcm_dataset.treatment.isin(rare_treatment_list)\n",
    "        | pcm_dataset.prescriptions.isin(rare_prescriptions_list)\n",
    "    )\n",
    "].plot.kde(ax=ax, ind=np.linspace(0, 1, 41), label=\"Common\")\n",
    "ax.set_yscale(\"symlog\")\n",
    "ax.set_ylim(0, 1000)\n",
    "ax.legend()\n",
    "sns.despine()\n",
    "ax.set_title(\"Relationship between rare identifiers and risk score\")\n",
    "plt.show()"
   ]
  },
  {
   "cell_type": "code",
   "execution_count": null,
   "id": "f08bad07-31a0-4703-9bf8-056cc611dfaf",
   "metadata": {},
   "outputs": [],
   "source": []
  }
 ],
 "metadata": {
  "kernelspec": {
   "display_name": "Python 3 (ipykernel)",
   "language": "python",
   "name": "python3"
  },
  "language_info": {
   "codemirror_mode": {
    "name": "ipython",
    "version": 3
   },
   "file_extension": ".py",
   "mimetype": "text/x-python",
   "name": "python",
   "nbconvert_exporter": "python",
   "pygments_lexer": "ipython3",
   "version": "3.9.16"
  }
 },
 "nbformat": 4,
 "nbformat_minor": 5
}
